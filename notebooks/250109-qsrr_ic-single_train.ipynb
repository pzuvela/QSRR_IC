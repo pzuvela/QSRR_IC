{
 "cells": [
  {
   "cell_type": "markdown",
   "id": "4954c34d-3ae0-410e-9abe-237198ebfc7c",
   "metadata": {},
   "source": [
    "# Imports"
   ]
  },
  {
   "cell_type": "code",
   "execution_count": 1,
   "id": "568ae07b-ee34-4ae5-ac83-1158e2e9234b",
   "metadata": {},
   "outputs": [],
   "source": [
    "import os\n",
    "import sys\n",
    "from typing import Dict\n",
    "\n",
    "import numpy as np\n",
    "from numpy import ndarray\n",
    "\n",
    "import pandas as pd\n",
    "from pandas import DataFrame\n",
    "\n",
    "from matplotlib import pyplot as plt"
   ]
  },
  {
   "cell_type": "markdown",
   "id": "0a4ef2a9-e2e2-497c-924e-88e2b2a5445f",
   "metadata": {},
   "source": [
    "# Paths"
   ]
  },
  {
   "cell_type": "code",
   "execution_count": 2,
   "id": "7796607a-254b-40c4-9ea4-598a0108a2bd",
   "metadata": {},
   "outputs": [],
   "source": [
    "NOTEBOOKS_PATH: str = os.getcwd()\n",
    "SETTINGS_PATH: str = NOTEBOOKS_PATH.replace(\"notebooks\", \"settings\")\n",
    "QSRR_IC_PATH: str = os.path.dirname(NOTEBOOKS_PATH)\n",
    "\n",
    "OPTIMIZATION_PATH: str = os.path.join(SETTINGS_PATH, \"optimization.json\")\n",
    "SINGLE_TRAIN_PATH: str = os.path.join(SETTINGS_PATH, \"single_train.json\")"
   ]
  },
  {
   "cell_type": "code",
   "execution_count": 3,
   "id": "5dfe598a-e2c3-44e6-b5be-35a3e770ac07",
   "metadata": {},
   "outputs": [
    {
     "name": "stdout",
     "output_type": "stream",
     "text": [
      "Path : C:\\Users\\petar\\PycharmProjects\\QSRR_IC\n",
      "Path : C:\\Users\\petar\\PycharmProjects\\QSRR_IC\\settings\n",
      "Path : C:\\Users\\petar\\PycharmProjects\\QSRR_IC\\notebooks\n"
     ]
    }
   ],
   "source": [
    "for path_ in {NOTEBOOKS_PATH, QSRR_IC_PATH, SETTINGS_PATH}:\n",
    "    print(f\"Path : {path_}\")"
   ]
  },
  {
   "cell_type": "code",
   "execution_count": 4,
   "id": "fc14f120-a71e-4039-adab-e89b318d7f38",
   "metadata": {},
   "outputs": [],
   "source": [
    "if QSRR_IC_PATH not in sys.path:\n",
    "    sys.path.append(QSRR_IC_PATH)"
   ]
  },
  {
   "cell_type": "code",
   "execution_count": 5,
   "id": "d5f796e4-4968-4920-95b9-00e6695fc3df",
   "metadata": {},
   "outputs": [],
   "source": [
    "# Change the working dir to QSRR IC path\n",
    "os.chdir(QSRR_IC_PATH)"
   ]
  },
  {
   "cell_type": "markdown",
   "id": "b58f45cf-eeaa-41ce-8679-b515eb1a5a68",
   "metadata": {},
   "source": [
    "# QSRR IC module imports"
   ]
  },
  {
   "cell_type": "code",
   "execution_count": 6,
   "id": "123b01ce-8fd8-4efe-bdfa-a5a60e8cdcd3",
   "metadata": {},
   "outputs": [],
   "source": [
    "from qsrr_ic.analysis.srd import SumOfRankingDifferences\n",
    "from qsrr_ic.analysis.srd.domain_models import SrdSettings\n",
    "from qsrr_ic.config import (\n",
    "    HyperParameterConfig,\n",
    "    QsrrIcConfig\n",
    ")\n",
    "from qsrr_ic.enums import RegressorType\n",
    "from qsrr_ic.load import (\n",
    "    load_dataset,\n",
    "    QsrrIcData,\n",
    "    QsrrIcDataset\n",
    ")\n",
    "from qsrr_ic.models.iso2grad import Iso2Grad\n",
    "from qsrr_ic.models.iso2grad.domain_models import Iso2GradData\n",
    "from qsrr_ic.models.qsrr import QsrrModel\n",
    "from qsrr_ic.models.qsrr.domain_models import QsrrData\n",
    "from qsrr_ic.process import ProcessData\n",
    "from qsrr_ic.runners import (\n",
    "    QsrrIcModelRunner,    \n",
    "    QsrrModelRunner\n",
    ")"
   ]
  },
  {
   "cell_type": "markdown",
   "id": "b75b285f-4f05-40a9-bd90-ae412833c58a",
   "metadata": {},
   "source": [
    "# Single Train\n",
    "\n",
    "This example shows how to train models using the quantitative structure-retention relationships (QSRR) mode & isocratic to gradient (Iso2Grad) model APIs, estimate confidence intervals (CIs) of predictions and metrics using resampling with resplacement, and analyze the models using sum of ranking differences (SRD) / define the models' applicability domain (AD)."
   ]
  },
  {
   "cell_type": "markdown",
   "id": "688ffca0-fb9d-4571-8e21-c2cfd853fe1e",
   "metadata": {},
   "source": [
    "## Instantiate `QsrrIcConfig` object using the \"single_train.json\" example\n",
    "- `QsrrIcConfig` is an object used to load all configs & settings\n",
    "- Can be instantiated in three ways:\n",
    "  * Using the constructor, takes individual config classes, as attributes\n",
    "  * Using the factory method `QsrrIcConfig::from_dict()` which takes a dictionary of configs/settings\n",
    "  * Using the method `QsrrIcConfig::from_json(filename=\"filename.json\")` that loads a dictionary of config/settings & instantiates `QsrrIcConfig` using the factory method `QsrrIcConfig::from_dict()`"
   ]
  },
  {
   "cell_type": "code",
   "execution_count": 7,
   "id": "0d2c01b3-2450-4743-b863-9b34d4ae62e5",
   "metadata": {},
   "outputs": [],
   "source": [
    "single_train_config: QsrrIcConfig = QsrrIcConfig.from_json(filename=SINGLE_TRAIN_PATH)"
   ]
  },
  {
   "cell_type": "code",
   "execution_count": 8,
   "id": "233375e9-8cfe-4b8a-892c-174065966122",
   "metadata": {},
   "outputs": [
    {
     "data": {
      "text/plain": [
       "{'dataset': {'molecular_descriptors_for_qsrr_training_path': './datasets/qsrr_ic/2025-01-05-molecular_descriptors_for_qsrr_training.csv',\n",
       "  'isocratic_retention_path': './datasets/qsrr_ic/2025-01-05-isocratic_retention.csv',\n",
       "  'molecular_descriptors_for_iso2grad_path': './datasets/qsrr_ic/2025-01-05-molecular_descriptors_for_iso2grad.csv',\n",
       "  'gradient_void_times_path': './datasets/qsrr_ic/2025-01-05-gradient_void_times.csv',\n",
       "  'gradient_profiles_path': './datasets/qsrr_ic/2025-01-05-gradient_profiles.csv',\n",
       "  'gradient_retention_path': './datasets/qsrr_ic/2025-01-05-gradient_retention.csv'},\n",
       " 'training_type': 'single_train',\n",
       " 'train_test_split': {'test_ratio': 0.7, 'random_seed': None, 'shuffle': True},\n",
       " 'hyper_parameters': {'PLS': {'n_components': 4},\n",
       "  'xGB': {'n_estimators': 497, 'learning_rate': 0.23, 'max_depth': 2},\n",
       "  'GBR': {'n_estimators': 485, 'learning_rate': 0.23, 'max_depth': 2},\n",
       "  'RFR': {'n_estimators': 150, 'max_depth': 15, 'min_samples_leaf': 1},\n",
       "  'ADA': {'n_estimators': 676, 'learning_rate': 0.1284015}},\n",
       " 'iso2grad_parameters': {'integration_step': 0.01,\n",
       "  'n_jobs': 12,\n",
       "  'verbosity': 10},\n",
       " 'resampling_with_replacement': {'use_resampling': True,\n",
       "  'n_samples': 10000,\n",
       "  'n_jobs': 12,\n",
       "  'verbosity': 10},\n",
       " 'cross_validation': None,\n",
       " 'global_search': None,\n",
       " 'results_path': './results/single_train'}"
      ]
     },
     "execution_count": 8,
     "metadata": {},
     "output_type": "execute_result"
    }
   ],
   "source": [
    "single_train_config.to_dict()"
   ]
  },
  {
   "cell_type": "markdown",
   "id": "e71e293e-32b0-4418-af9d-14971e1d3d98",
   "metadata": {},
   "source": [
    "## Load & Prepare Data"
   ]
  },
  {
   "cell_type": "code",
   "execution_count": 9,
   "id": "5723ab5a-6071-4b94-b085-ab14e37809ad",
   "metadata": {},
   "outputs": [],
   "source": [
    "# Load the dataset\n",
    "dataset: QsrrIcDataset = load_dataset(single_train_config.dataset_config)\n",
    "\n",
    "# Process dataset for training\n",
    "data: QsrrIcData = ProcessData(dataset).process()\n",
    "\n",
    "# Prepare & split QSRR data to train/test\n",
    "qsrr_data: QsrrData = QsrrData(\n",
    "    y=data.isocratic_retention,\n",
    "    x=data.molecular_descriptors_for_qsrr_training\n",
    ")\n",
    "qsrr_train_data, qsrr_test_data = qsrr_data.split(single_train_config.train_test_split_config)"
   ]
  },
  {
   "cell_type": "markdown",
   "id": "4e4fd298-e948-4feb-b5f3-e4ca7908123d",
   "metadata": {},
   "source": [
    "## Train QSRR models\n",
    "\n",
    "Configuration class `QsrrIcConfig`, among others, contains an dictionary of `RegressorType`:`HyperParameterConfig` key:value pairs. `HyperParameterConfig` contains an instance of the HyperParameterRegistry that stores hyper-parameters (for single train) or hyper-parameter ranges (for optimization). \n",
    "\n",
    "Package *qsrr_ic* in the *QSRR_IC* repository implements singleton ModelRunner classes to run the model training.\n",
    "\n",
    "Below, we loop over the `RegressorType` & the respective `HyperParameterConfigs`, then instantiate `QsrrModelRunner` that returns instance of `QsrrModel`. `QsrrModel` can also be invoked without using the `QsrrModelRunner` class."
   ]
  },
  {
   "cell_type": "code",
   "execution_count": 10,
   "id": "01d402ea-e81e-420a-962a-1e5a2bad71e4",
   "metadata": {},
   "outputs": [
    {
     "name": "stdout",
     "output_type": "stream",
     "text": [
      "Training model: {'regressor_type': 'PLS', 'hyper_parameters': {'n_components': 4}}\n",
      "Training model: {'regressor_type': 'xGB', 'hyper_parameters': {'n_estimators': 497, 'learning_rate': 0.23, 'max_depth': 2}}\n",
      "Training model: {'regressor_type': 'GBR', 'hyper_parameters': {'n_estimators': 485, 'learning_rate': 0.23, 'max_depth': 2}}\n",
      "Training model: {'regressor_type': 'RFR', 'hyper_parameters': {'n_estimators': 150, 'max_depth': 15, 'min_samples_leaf': 1}}\n",
      "Training model: {'regressor_type': 'ADA', 'hyper_parameters': {'n_estimators': 676, 'learning_rate': 0.1284015}}\n"
     ]
    }
   ],
   "source": [
    "qsrr_models: Dict[RegressorType, QsrrModel] = {}\n",
    "\n",
    "for regressor_type, hyper_parameter_config in single_train_config.hyper_parameter_config.items():\n",
    "    \n",
    "    print(f\"Training model: {hyper_parameter_config.to_dict()}\")\n",
    "    \n",
    "    model_runner = QsrrModelRunner()\n",
    "\n",
    "    model: QsrrModel = model_runner.run(\n",
    "        regressor_type=regressor_type,\n",
    "        qsrr_train_data=qsrr_train_data,\n",
    "        qsrr_test_data=qsrr_test_data,\n",
    "        config=hyper_parameter_config\n",
    "    )\n",
    "    \n",
    "    qsrr_models[regressor_type] = model"
   ]
  },
  {
   "cell_type": "code",
   "execution_count": 11,
   "id": "d67fd7f9-b26e-4eb4-9d31-5d8c2ab17285",
   "metadata": {},
   "outputs": [
    {
     "data": {
      "text/plain": [
       "{<RegressorType.PLS: 5>: <qsrr_ic.models.qsrr.qsrr.QsrrModel at 0x1271f227640>,\n",
       " <RegressorType.xGB: 1>: <qsrr_ic.models.qsrr.qsrr.QsrrModel at 0x12775aa9490>,\n",
       " <RegressorType.GBR: 2>: <qsrr_ic.models.qsrr.qsrr.QsrrModel at 0x1271f2639d0>,\n",
       " <RegressorType.RFR: 3>: <qsrr_ic.models.qsrr.qsrr.QsrrModel at 0x127222e3c40>,\n",
       " <RegressorType.ADA: 4>: <qsrr_ic.models.qsrr.qsrr.QsrrModel at 0x127222e3f40>}"
      ]
     },
     "execution_count": 11,
     "metadata": {},
     "output_type": "execute_result"
    }
   ],
   "source": [
    "qsrr_models"
   ]
  },
  {
   "cell_type": "code",
   "execution_count": 12,
   "id": "686e0182-3a59-4c76-80ef-4ff126b8fc00",
   "metadata": {},
   "outputs": [
    {
     "name": "stdout",
     "output_type": "stream",
     "text": [
      "Model: PLS\n",
      "Hyper-parameters: {'n_components': 4}\n",
      "Performance: \n"
     ]
    },
    {
     "data": {
      "text/html": [
       "<div>\n",
       "<style scoped>\n",
       "    .dataframe tbody tr th:only-of-type {\n",
       "        vertical-align: middle;\n",
       "    }\n",
       "\n",
       "    .dataframe tbody tr th {\n",
       "        vertical-align: top;\n",
       "    }\n",
       "\n",
       "    .dataframe thead th {\n",
       "        text-align: right;\n",
       "    }\n",
       "</style>\n",
       "<table border=\"1\" class=\"dataframe\">\n",
       "  <thead>\n",
       "    <tr style=\"text-align: right;\">\n",
       "      <th></th>\n",
       "      <th>Training set</th>\n",
       "      <th>Test set</th>\n",
       "    </tr>\n",
       "  </thead>\n",
       "  <tbody>\n",
       "    <tr>\n",
       "      <th>R2</th>\n",
       "      <td>0.954163</td>\n",
       "      <td>0.946058</td>\n",
       "    </tr>\n",
       "    <tr>\n",
       "      <th>MAE</th>\n",
       "      <td>0.087473</td>\n",
       "      <td>0.100449</td>\n",
       "    </tr>\n",
       "    <tr>\n",
       "      <th>MSE</th>\n",
       "      <td>0.012955</td>\n",
       "      <td>0.016069</td>\n",
       "    </tr>\n",
       "    <tr>\n",
       "      <th>RMSE</th>\n",
       "      <td>0.113818</td>\n",
       "      <td>0.126765</td>\n",
       "    </tr>\n",
       "    <tr>\n",
       "      <th>%MSE</th>\n",
       "      <td>253.195061</td>\n",
       "      <td>NaN</td>\n",
       "    </tr>\n",
       "    <tr>\n",
       "      <th>%RMSE</th>\n",
       "      <td>159.121042</td>\n",
       "      <td>NaN</td>\n",
       "    </tr>\n",
       "  </tbody>\n",
       "</table>\n",
       "</div>"
      ],
      "text/plain": [
       "       Training set  Test set\n",
       "R2         0.954163  0.946058\n",
       "MAE        0.087473  0.100449\n",
       "MSE        0.012955  0.016069\n",
       "RMSE       0.113818  0.126765\n",
       "%MSE     253.195061       NaN\n",
       "%RMSE    159.121042       NaN"
      ]
     },
     "metadata": {},
     "output_type": "display_data"
    },
    {
     "name": "stdout",
     "output_type": "stream",
     "text": [
      "\n",
      "Model: xGB\n",
      "Hyper-parameters: {'n_estimators': 497, 'learning_rate': 0.23, 'max_depth': 2}\n",
      "Performance: \n"
     ]
    },
    {
     "data": {
      "text/html": [
       "<div>\n",
       "<style scoped>\n",
       "    .dataframe tbody tr th:only-of-type {\n",
       "        vertical-align: middle;\n",
       "    }\n",
       "\n",
       "    .dataframe tbody tr th {\n",
       "        vertical-align: top;\n",
       "    }\n",
       "\n",
       "    .dataframe thead th {\n",
       "        text-align: right;\n",
       "    }\n",
       "</style>\n",
       "<table border=\"1\" class=\"dataframe\">\n",
       "  <thead>\n",
       "    <tr style=\"text-align: right;\">\n",
       "      <th></th>\n",
       "      <th>Training set</th>\n",
       "      <th>Test set</th>\n",
       "    </tr>\n",
       "  </thead>\n",
       "  <tbody>\n",
       "    <tr>\n",
       "      <th>R2</th>\n",
       "      <td>0.999845</td>\n",
       "      <td>0.993598</td>\n",
       "    </tr>\n",
       "    <tr>\n",
       "      <th>MAE</th>\n",
       "      <td>0.004689</td>\n",
       "      <td>0.026773</td>\n",
       "    </tr>\n",
       "    <tr>\n",
       "      <th>MSE</th>\n",
       "      <td>0.000044</td>\n",
       "      <td>0.001907</td>\n",
       "    </tr>\n",
       "    <tr>\n",
       "      <th>RMSE</th>\n",
       "      <td>0.006621</td>\n",
       "      <td>0.043670</td>\n",
       "    </tr>\n",
       "    <tr>\n",
       "      <th>%MSE</th>\n",
       "      <td>0.690967</td>\n",
       "      <td>NaN</td>\n",
       "    </tr>\n",
       "    <tr>\n",
       "      <th>%RMSE</th>\n",
       "      <td>8.312442</td>\n",
       "      <td>NaN</td>\n",
       "    </tr>\n",
       "  </tbody>\n",
       "</table>\n",
       "</div>"
      ],
      "text/plain": [
       "       Training set  Test set\n",
       "R2         0.999845  0.993598\n",
       "MAE        0.004689  0.026773\n",
       "MSE        0.000044  0.001907\n",
       "RMSE       0.006621  0.043670\n",
       "%MSE       0.690967       NaN\n",
       "%RMSE      8.312442       NaN"
      ]
     },
     "metadata": {},
     "output_type": "display_data"
    },
    {
     "name": "stdout",
     "output_type": "stream",
     "text": [
      "\n",
      "Model: GBR\n",
      "Hyper-parameters: {'n_estimators': 485, 'learning_rate': 0.23, 'max_depth': 2}\n",
      "Performance: \n"
     ]
    },
    {
     "data": {
      "text/html": [
       "<div>\n",
       "<style scoped>\n",
       "    .dataframe tbody tr th:only-of-type {\n",
       "        vertical-align: middle;\n",
       "    }\n",
       "\n",
       "    .dataframe tbody tr th {\n",
       "        vertical-align: top;\n",
       "    }\n",
       "\n",
       "    .dataframe thead th {\n",
       "        text-align: right;\n",
       "    }\n",
       "</style>\n",
       "<table border=\"1\" class=\"dataframe\">\n",
       "  <thead>\n",
       "    <tr style=\"text-align: right;\">\n",
       "      <th></th>\n",
       "      <th>Training set</th>\n",
       "      <th>Test set</th>\n",
       "    </tr>\n",
       "  </thead>\n",
       "  <tbody>\n",
       "    <tr>\n",
       "      <th>R2</th>\n",
       "      <td>0.999878</td>\n",
       "      <td>0.994209</td>\n",
       "    </tr>\n",
       "    <tr>\n",
       "      <th>MAE</th>\n",
       "      <td>0.004459</td>\n",
       "      <td>0.026347</td>\n",
       "    </tr>\n",
       "    <tr>\n",
       "      <th>MSE</th>\n",
       "      <td>0.000034</td>\n",
       "      <td>0.001725</td>\n",
       "    </tr>\n",
       "    <tr>\n",
       "      <th>RMSE</th>\n",
       "      <td>0.005869</td>\n",
       "      <td>0.041537</td>\n",
       "    </tr>\n",
       "    <tr>\n",
       "      <th>%MSE</th>\n",
       "      <td>0.236330</td>\n",
       "      <td>NaN</td>\n",
       "    </tr>\n",
       "    <tr>\n",
       "      <th>%RMSE</th>\n",
       "      <td>4.861379</td>\n",
       "      <td>NaN</td>\n",
       "    </tr>\n",
       "  </tbody>\n",
       "</table>\n",
       "</div>"
      ],
      "text/plain": [
       "       Training set  Test set\n",
       "R2         0.999878  0.994209\n",
       "MAE        0.004459  0.026347\n",
       "MSE        0.000034  0.001725\n",
       "RMSE       0.005869  0.041537\n",
       "%MSE       0.236330       NaN\n",
       "%RMSE      4.861379       NaN"
      ]
     },
     "metadata": {},
     "output_type": "display_data"
    },
    {
     "name": "stdout",
     "output_type": "stream",
     "text": [
      "\n",
      "Model: RFR\n",
      "Hyper-parameters: {'n_estimators': 150, 'max_depth': 15, 'min_samples_leaf': 1}\n",
      "Performance: \n"
     ]
    },
    {
     "data": {
      "text/html": [
       "<div>\n",
       "<style scoped>\n",
       "    .dataframe tbody tr th:only-of-type {\n",
       "        vertical-align: middle;\n",
       "    }\n",
       "\n",
       "    .dataframe tbody tr th {\n",
       "        vertical-align: top;\n",
       "    }\n",
       "\n",
       "    .dataframe thead th {\n",
       "        text-align: right;\n",
       "    }\n",
       "</style>\n",
       "<table border=\"1\" class=\"dataframe\">\n",
       "  <thead>\n",
       "    <tr style=\"text-align: right;\">\n",
       "      <th></th>\n",
       "      <th>Training set</th>\n",
       "      <th>Test set</th>\n",
       "    </tr>\n",
       "  </thead>\n",
       "  <tbody>\n",
       "    <tr>\n",
       "      <th>R2</th>\n",
       "      <td>0.998424</td>\n",
       "      <td>0.987742</td>\n",
       "    </tr>\n",
       "    <tr>\n",
       "      <th>MAE</th>\n",
       "      <td>0.013577</td>\n",
       "      <td>0.035744</td>\n",
       "    </tr>\n",
       "    <tr>\n",
       "      <th>MSE</th>\n",
       "      <td>0.000445</td>\n",
       "      <td>0.003652</td>\n",
       "    </tr>\n",
       "    <tr>\n",
       "      <th>RMSE</th>\n",
       "      <td>0.021103</td>\n",
       "      <td>0.060429</td>\n",
       "    </tr>\n",
       "    <tr>\n",
       "      <th>%MSE</th>\n",
       "      <td>4.020331</td>\n",
       "      <td>NaN</td>\n",
       "    </tr>\n",
       "    <tr>\n",
       "      <th>%RMSE</th>\n",
       "      <td>20.050762</td>\n",
       "      <td>NaN</td>\n",
       "    </tr>\n",
       "  </tbody>\n",
       "</table>\n",
       "</div>"
      ],
      "text/plain": [
       "       Training set  Test set\n",
       "R2         0.998424  0.987742\n",
       "MAE        0.013577  0.035744\n",
       "MSE        0.000445  0.003652\n",
       "RMSE       0.021103  0.060429\n",
       "%MSE       4.020331       NaN\n",
       "%RMSE     20.050762       NaN"
      ]
     },
     "metadata": {},
     "output_type": "display_data"
    },
    {
     "name": "stdout",
     "output_type": "stream",
     "text": [
      "\n",
      "Model: ADA\n",
      "Hyper-parameters: {'n_estimators': 676, 'learning_rate': 0.1284015}\n",
      "Performance: \n"
     ]
    },
    {
     "data": {
      "text/html": [
       "<div>\n",
       "<style scoped>\n",
       "    .dataframe tbody tr th:only-of-type {\n",
       "        vertical-align: middle;\n",
       "    }\n",
       "\n",
       "    .dataframe tbody tr th {\n",
       "        vertical-align: top;\n",
       "    }\n",
       "\n",
       "    .dataframe thead th {\n",
       "        text-align: right;\n",
       "    }\n",
       "</style>\n",
       "<table border=\"1\" class=\"dataframe\">\n",
       "  <thead>\n",
       "    <tr style=\"text-align: right;\">\n",
       "      <th></th>\n",
       "      <th>Training set</th>\n",
       "      <th>Test set</th>\n",
       "    </tr>\n",
       "  </thead>\n",
       "  <tbody>\n",
       "    <tr>\n",
       "      <th>R2</th>\n",
       "      <td>0.976620</td>\n",
       "      <td>0.963491</td>\n",
       "    </tr>\n",
       "    <tr>\n",
       "      <th>MAE</th>\n",
       "      <td>0.067227</td>\n",
       "      <td>0.082793</td>\n",
       "    </tr>\n",
       "    <tr>\n",
       "      <th>MSE</th>\n",
       "      <td>0.006608</td>\n",
       "      <td>0.010876</td>\n",
       "    </tr>\n",
       "    <tr>\n",
       "      <th>RMSE</th>\n",
       "      <td>0.081288</td>\n",
       "      <td>0.104288</td>\n",
       "    </tr>\n",
       "    <tr>\n",
       "      <th>%MSE</th>\n",
       "      <td>217.562378</td>\n",
       "      <td>NaN</td>\n",
       "    </tr>\n",
       "    <tr>\n",
       "      <th>%RMSE</th>\n",
       "      <td>147.499959</td>\n",
       "      <td>NaN</td>\n",
       "    </tr>\n",
       "  </tbody>\n",
       "</table>\n",
       "</div>"
      ],
      "text/plain": [
       "       Training set  Test set\n",
       "R2         0.976620  0.963491\n",
       "MAE        0.067227  0.082793\n",
       "MSE        0.006608  0.010876\n",
       "RMSE       0.081288  0.104288\n",
       "%MSE     217.562378       NaN\n",
       "%RMSE    147.499959       NaN"
      ]
     },
     "metadata": {},
     "output_type": "display_data"
    },
    {
     "name": "stdout",
     "output_type": "stream",
     "text": [
      "\n"
     ]
    }
   ],
   "source": [
    "for regressor_type in single_train_config.hyper_parameter_config:\n",
    "    print(f\"Model: {regressor_type.name}\")\n",
    "    print(f\"Hyper-parameters: {qsrr_models[regressor_type].hyper_parameters.to_dict()}\")\n",
    "    print(f\"Performance: \")\n",
    "    train_metrics: DataFrame = qsrr_models[regressor_type].train_results.qsrr_metrics.to_df()\n",
    "    test_metrics: DataFrame = qsrr_models[regressor_type].test_results.qsrr_metrics.to_df()\n",
    "    metrics: DataFrame = pd.concat((train_metrics, test_metrics), axis=1)\n",
    "    metrics.columns = [\"Training set\", \"Test set\"]\n",
    "    display(metrics)\n",
    "    print()"
   ]
  },
  {
   "cell_type": "code",
   "execution_count": 13,
   "id": "dd4ce19b-f8ab-476b-9074-82d0ac2526ce",
   "metadata": {},
   "outputs": [
    {
     "data": {
      "image/png": "[encoded data removed]",
      "text/plain": [
       "<Figure size 640x480 with 1 Axes>"
      ]
     },
     "metadata": {},
     "output_type": "display_data"
    },
    {
     "data": {
      "image/png": "[encoded data removed]",
      "text/plain": [
       "<Figure size 640x480 with 1 Axes>"
      ]
     },
     "metadata": {},
     "output_type": "display_data"
    },
    {
     "data": {
      "image/png": "[encoded data removed]",
      "text/plain": [
       "<Figure size 640x480 with 1 Axes>"
      ]
     },
     "metadata": {},
     "output_type": "display_data"
    },
    {
     "data": {
      "image/png": "[encoded data removed]",
      "text/plain": [
       "<Figure size 640x480 with 1 Axes>"
      ]
     },
     "metadata": {},
     "output_type": "display_data"
    },
    {
     "data": {
      "image/png": "[encoded data removed]",
      "text/plain": [
       "<Figure size 640x480 with 1 Axes>"
      ]
     },
     "metadata": {},
     "output_type": "display_data"
    }
   ],
   "source": [
    "for regressor_type, qsrr_model in qsrr_models.items():\n",
    "\n",
    "    fig, ax = plt.subplots()\n",
    "\n",
    "    ax.set_title(regressor_type)\n",
    "    \n",
    "    ax.scatter(\n",
    "        qsrr_model.qsrr_train_data.y,\n",
    "        qsrr_model.train_results.qsrr_predictions.y\n",
    "    )\n",
    "    ax.scatter(\n",
    "        qsrr_model.qsrr_test_data.y,\n",
    "        qsrr_model.test_results.qsrr_predictions.y        \n",
    "    )\n",
    "\n",
    "    plt.show()"
   ]
  },
  {
   "cell_type": "markdown",
   "id": "5a1c5199-9bf3-4d64-adb5-2a33122db998",
   "metadata": {},
   "source": [
    "## Prepare data & settings for iso2grad model\n",
    "\n",
    "Below, we prepare settings & data for iso2grad modelling.\n",
    "\n",
    "Settings:\n",
    "* Integration step\n",
    "* Number of Python processes to run Iso2Grad in parallel\n",
    "* Verbosity if parallel calculation\n",
    "\n",
    "Data needed:\n",
    "* Molecular descriptors for iso2grad, all descriptors besides the eluent concentration (will be varied during the iso2grad numerical integration process)\n",
    "* Void times of gradient calculations\n",
    "* Gradient profiles, only linear profiles supported now\n",
    "* Gradient retention times, optional data for validation"
   ]
  },
  {
   "cell_type": "code",
   "execution_count": 14,
   "id": "33947a5d-7f90-471b-b3f4-e193a53fb23c",
   "metadata": {},
   "outputs": [],
   "source": [
    "iso2grad_settings = single_train_config.iso2grad_config.iso2grad_settings\n",
    "iso2grad_data = Iso2GradData(\n",
    "    isocratic_model_predictors=data.molecular_descriptors_for_iso2grad,\n",
    "    gradient_void_times=data.gradient_void_times,\n",
    "    gradient_retention_profiles=data.gradient_profiles,\n",
    "    gradient_retention_times=data.gradient_retention\n",
    ")"
   ]
  },
  {
   "cell_type": "code",
   "execution_count": 15,
   "id": "fe468909-d55b-430a-b54b-cf9e1bc0e226",
   "metadata": {},
   "outputs": [
    {
     "data": {
      "text/plain": [
       "(29, 54)"
      ]
     },
     "execution_count": 15,
     "metadata": {},
     "output_type": "execute_result"
    }
   ],
   "source": [
    "data.molecular_descriptors_for_iso2grad.shape"
   ]
  },
  {
   "cell_type": "code",
   "execution_count": 16,
   "id": "1c9ef194-d7c9-47cb-8f59-ed2a0af1e61b",
   "metadata": {},
   "outputs": [
    {
     "name": "stdout",
     "output_type": "stream",
     "text": [
      "Iso2Grad settings: {'integration_step': 0.01, 'n_jobs': 12, 'verbosity': 10}\n"
     ]
    }
   ],
   "source": [
    "print(f\"Iso2Grad settings: {iso2grad_settings.__dict__}\")"
   ]
  },
  {
   "cell_type": "markdown",
   "id": "77f99464-53c7-47b4-aa9f-5f282169aea5",
   "metadata": {},
   "source": [
    "## Train iso2grad models\n",
    "\n",
    "Package *qsrr_ic* in the *QSRR_IC* repository implements singleton ModelRunner classes to run the model training.\n",
    "\n",
    "Below, we loop over the `RegressorType` & the respective `QsrrModels`, then instantiate `QsrrIcModelRunner` that returns instance of `Iso2Grad`. `Iso2Grad` can also be invoked without using the `QsrrIcModelRunner` class."
   ]
  },
  {
   "cell_type": "code",
   "execution_count": null,
   "id": "f3422014-185b-4991-8810-bbd07fe70161",
   "metadata": {},
   "outputs": [
    {
     "name": "stdout",
     "output_type": "stream",
     "text": [
      "Training iso2grad model using PLS QSRR model\n"
     ]
    },
    {
     "name": "stderr",
     "output_type": "stream",
     "text": [
      "[Parallel(n_jobs=12)]: Using backend LokyBackend with 12 concurrent workers.\n",
      "[Parallel(n_jobs=12)]: Done   1 tasks      | elapsed:   14.2s\n",
      "[Parallel(n_jobs=12)]: Done   7 out of  27 | elapsed:   15.5s remaining:   44.3s\n",
      "[Parallel(n_jobs=12)]: Done  10 out of  27 | elapsed:   16.3s remaining:   27.7s\n",
      "[Parallel(n_jobs=12)]: Done  13 out of  27 | elapsed:   27.2s remaining:   29.3s\n",
      "[Parallel(n_jobs=12)]: Done  16 out of  27 | elapsed:   27.3s remaining:   18.8s\n",
      "[Parallel(n_jobs=12)]: Done  19 out of  27 | elapsed:   28.3s remaining:   11.9s\n"
     ]
    }
   ],
   "source": [
    "iso2grad_models: Dict[RegressorType, RegressorType] = {}\n",
    "\n",
    "for regressor_type, qsrr_model in qsrr_models.items():\n",
    "    \n",
    "    print(f\"Training iso2grad model using {regressor_type.name} QSRR model\")\n",
    "    \n",
    "    model_runner = QsrrIcModelRunner()\n",
    "\n",
    "    model: Iso2Grad = model_runner.run(\n",
    "        qsrr_model=qsrr_model,\n",
    "        iso2grad_data=iso2grad_data,\n",
    "        iso2grad_settings=iso2grad_settings\n",
    "    )\n",
    "    \n",
    "    iso2grad_models[regressor_type] = model"
   ]
  },
  {
   "cell_type": "code",
   "execution_count": null,
   "id": "0466ad03-8a15-43ae-8c21-e89da72a656b",
   "metadata": {},
   "outputs": [],
   "source": [
    "iso2grad_models"
   ]
  },
  {
   "cell_type": "code",
   "execution_count": null,
   "id": "b21398e7-5b2d-4e44-9535-6e7ee4d961a5",
   "metadata": {},
   "outputs": [],
   "source": [
    "for regressor_type in single_train_config.hyper_parameter_config:\n",
    "    print(f\"Model: {regressor_type.name}\")\n",
    "    print(f\"Performance: \")\n",
    "    iso2grad_metrics: DataFrame = iso2grad_models[regressor_type].results.metrics.to_df()\n",
    "    display(iso2grad_metrics)\n",
    "    print()"
   ]
  },
  {
   "cell_type": "markdown",
   "id": "bfdffde3-035a-4353-9b0b-25e9981d9ab8",
   "metadata": {},
   "source": [
    "## SRD Analysis"
   ]
  },
  {
   "cell_type": "markdown",
   "id": "f4eaf199-3a29-4913-8508-087e99f93570",
   "metadata": {},
   "source": [
    "### SRD for QSRR models"
   ]
  },
  {
   "cell_type": "code",
   "execution_count": 15,
   "id": "aeb8ccf0-640c-4622-9055-9399b1f67162",
   "metadata": {},
   "outputs": [],
   "source": [
    "# Calculate SRD for QSRR models\n",
    "qsrr_srds: Dict[RegressorType, SumOfRankingDifferences] = {}\n",
    "\n",
    "for regressor_type, qsrr_model in qsrr_models.items():\n",
    "    qsrr_srds[regressor_type] = SumOfRankingDifferences(\n",
    "        # Inputs = predictions\n",
    "        inputs=np.vstack((qsrr_model.train_results.qsrr_predictions.y, qsrr_model.test_results.qsrr_predictions.y)).reshape(-1, 1),\n",
    "        # Golden reference = exp retention data\n",
    "        golden_reference=np.vstack((qsrr_model.qsrr_train_data.y, qsrr_model.qsrr_test_data.y)).reshape(-1, 1)\n",
    "    )"
   ]
  },
  {
   "cell_type": "code",
   "execution_count": 16,
   "id": "72538ed7-e940-4519-b955-bed93bcaf19a",
   "metadata": {},
   "outputs": [],
   "source": [
    "# Can get from any, as they are random\n",
    "normalized_random_srds = qsrr_srds[RegressorType.PLS].normalized_random_srds\n",
    "srds: Dict[RegressorType, ndarray] = {}\n",
    "normalized_srds: Dict[RegressorType, ndarray] = {}\n",
    "\n",
    "for regressor_type, qsrr_srd in qsrr_srds.items():\n",
    "    srds[regressor_type] = qsrr_srd.srds\n",
    "    normalized_srds[regressor_type] = qsrr_srd.normalized_srds\n",
    "\n",
    "srds_df = pd.DataFrame.from_dict(srds, orient=\"index\")\n",
    "normalized_srds_df = pd.DataFrame.from_dict(normalized_srds, orient=\"index\")\n",
    "\n",
    "crnn_stats = {\n",
    "    \"XX1\": normalized_random_srds.min() + normalized_random_srds.min() * 0.05,\n",
    "    \"Mean\": normalized_random_srds.mean(),\n",
    "    \"XX19\": normalized_random_srds.max() - normalized_random_srds.max() * 0.05\n",
    "}\n",
    "\n",
    "crnn_stats_df = pd.DataFrame.from_dict(crnn_stats, orient=\"index\")"
   ]
  },
  {
   "cell_type": "code",
   "execution_count": 19,
   "id": "11a08197-fb0a-455d-9e55-6e68765e8eff",
   "metadata": {},
   "outputs": [
    {
     "data": {
      "text/plain": [
       "262812.0"
      ]
     },
     "execution_count": 19,
     "metadata": {},
     "output_type": "execute_result"
    }
   ],
   "source": [
    "qsrr_srds[RegressorType.xGB].srd_max"
   ]
  },
  {
   "cell_type": "code",
   "execution_count": 20,
   "id": "20ac3e62-2e08-4431-9649-2750d1181256",
   "metadata": {},
   "outputs": [
    {
     "data": {
      "text/html": [
       "<div>\n",
       "<style scoped>\n",
       "    .dataframe tbody tr th:only-of-type {\n",
       "        vertical-align: middle;\n",
       "    }\n",
       "\n",
       "    .dataframe tbody tr th {\n",
       "        vertical-align: top;\n",
       "    }\n",
       "\n",
       "    .dataframe thead th {\n",
       "        text-align: right;\n",
       "    }\n",
       "</style>\n",
       "<table border=\"1\" class=\"dataframe\">\n",
       "  <thead>\n",
       "    <tr style=\"text-align: right;\">\n",
       "      <th></th>\n",
       "      <th>0</th>\n",
       "    </tr>\n",
       "  </thead>\n",
       "  <tbody>\n",
       "    <tr>\n",
       "      <th>RegressorType.PLS</th>\n",
       "      <td>24276.0</td>\n",
       "    </tr>\n",
       "    <tr>\n",
       "      <th>RegressorType.xGB</th>\n",
       "      <td>6036.0</td>\n",
       "    </tr>\n",
       "    <tr>\n",
       "      <th>RegressorType.GBR</th>\n",
       "      <td>6036.0</td>\n",
       "    </tr>\n",
       "    <tr>\n",
       "      <th>RegressorType.RFR</th>\n",
       "      <td>7218.0</td>\n",
       "    </tr>\n",
       "    <tr>\n",
       "      <th>RegressorType.ADA</th>\n",
       "      <td>17244.0</td>\n",
       "    </tr>\n",
       "  </tbody>\n",
       "</table>\n",
       "</div>"
      ],
      "text/plain": [
       "                         0\n",
       "RegressorType.PLS  24276.0\n",
       "RegressorType.xGB   6036.0\n",
       "RegressorType.GBR   6036.0\n",
       "RegressorType.RFR   7218.0\n",
       "RegressorType.ADA  17244.0"
      ]
     },
     "metadata": {},
     "output_type": "display_data"
    },
    {
     "data": {
      "text/html": [
       "<div>\n",
       "<style scoped>\n",
       "    .dataframe tbody tr th:only-of-type {\n",
       "        vertical-align: middle;\n",
       "    }\n",
       "\n",
       "    .dataframe tbody tr th {\n",
       "        vertical-align: top;\n",
       "    }\n",
       "\n",
       "    .dataframe thead th {\n",
       "        text-align: right;\n",
       "    }\n",
       "</style>\n",
       "<table border=\"1\" class=\"dataframe\">\n",
       "  <thead>\n",
       "    <tr style=\"text-align: right;\">\n",
       "      <th></th>\n",
       "      <th>0</th>\n",
       "    </tr>\n",
       "  </thead>\n",
       "  <tbody>\n",
       "    <tr>\n",
       "      <th>RegressorType.PLS</th>\n",
       "      <td>9.237021</td>\n",
       "    </tr>\n",
       "    <tr>\n",
       "      <th>RegressorType.xGB</th>\n",
       "      <td>2.296699</td>\n",
       "    </tr>\n",
       "    <tr>\n",
       "      <th>RegressorType.GBR</th>\n",
       "      <td>2.296699</td>\n",
       "    </tr>\n",
       "    <tr>\n",
       "      <th>RegressorType.RFR</th>\n",
       "      <td>2.746450</td>\n",
       "    </tr>\n",
       "    <tr>\n",
       "      <th>RegressorType.ADA</th>\n",
       "      <td>6.561344</td>\n",
       "    </tr>\n",
       "  </tbody>\n",
       "</table>\n",
       "</div>"
      ],
      "text/plain": [
       "                          0\n",
       "RegressorType.PLS  9.237021\n",
       "RegressorType.xGB  2.296699\n",
       "RegressorType.GBR  2.296699\n",
       "RegressorType.RFR  2.746450\n",
       "RegressorType.ADA  6.561344"
      ]
     },
     "metadata": {},
     "output_type": "display_data"
    },
    {
     "data": {
      "text/html": [
       "<div>\n",
       "<style scoped>\n",
       "    .dataframe tbody tr th:only-of-type {\n",
       "        vertical-align: middle;\n",
       "    }\n",
       "\n",
       "    .dataframe tbody tr th {\n",
       "        vertical-align: top;\n",
       "    }\n",
       "\n",
       "    .dataframe thead th {\n",
       "        text-align: right;\n",
       "    }\n",
       "</style>\n",
       "<table border=\"1\" class=\"dataframe\">\n",
       "  <thead>\n",
       "    <tr style=\"text-align: right;\">\n",
       "      <th></th>\n",
       "      <th>0</th>\n",
       "    </tr>\n",
       "  </thead>\n",
       "  <tbody>\n",
       "    <tr>\n",
       "      <th>XX1</th>\n",
       "      <td>62.901237</td>\n",
       "    </tr>\n",
       "    <tr>\n",
       "      <th>Mean</th>\n",
       "      <td>66.675791</td>\n",
       "    </tr>\n",
       "    <tr>\n",
       "      <th>XX19</th>\n",
       "      <td>69.590468</td>\n",
       "    </tr>\n",
       "  </tbody>\n",
       "</table>\n",
       "</div>"
      ],
      "text/plain": [
       "              0\n",
       "XX1   62.901237\n",
       "Mean  66.675791\n",
       "XX19  69.590468"
      ]
     },
     "metadata": {},
     "output_type": "display_data"
    }
   ],
   "source": [
    "display(srds_df)\n",
    "display(normalized_srds_df)\n",
    "display(crnn_stats_df)"
   ]
  },
  {
   "cell_type": "code",
   "execution_count": 21,
   "id": "98c8972b-063e-4f5b-9f7e-fb961d6424ef",
   "metadata": {},
   "outputs": [
    {
     "data": {
      "text/plain": [
       "<matplotlib.collections.PathCollection at 0x1a04a404e50>"
      ]
     },
     "execution_count": 21,
     "metadata": {},
     "output_type": "execute_result"
    },
    {
     "data": {
      "image/png": "[encoded data removed]",
      "text/plain": [
       "<Figure size 640x480 with 1 Axes>"
      ]
     },
     "metadata": {},
     "output_type": "display_data"
    }
   ],
   "source": [
    "fig, ax = plt.subplots()\n",
    "\n",
    "ax.bar(\n",
    "    normalized_srds_df.values.ravel(), \n",
    "    height=normalized_srds_df.values.ravel()\n",
    ")\n",
    "ax.scatter(\n",
    "    crnn_stats_df.values.ravel(), \n",
    "    crnn_stats_df.values.ravel()\n",
    ")"
   ]
  },
  {
   "cell_type": "code",
   "execution_count": null,
   "id": "8f89baf2-3bb6-49d7-8cce-ad02f4033d99",
   "metadata": {},
   "outputs": [],
   "source": [
    "normalized_srds"
   ]
  },
  {
   "cell_type": "code",
   "execution_count": null,
   "id": "75a64178-bef5-44e9-b58a-3c0939c6abff",
   "metadata": {},
   "outputs": [],
   "source": []
  },
  {
   "cell_type": "markdown",
   "id": "995f18a9-31e2-4b9c-acc2-808c4d1bedf9",
   "metadata": {},
   "source": [
    "### SRD for iso2grad models"
   ]
  },
  {
   "cell_type": "code",
   "execution_count": 34,
   "id": "49d80775-e3d2-46c5-a395-246ec7b5e41b",
   "metadata": {},
   "outputs": [],
   "source": [
    "# Calculate SRD for iso2grad models\n",
    "iso2grad_srds: Dict[RegressorType, SumOfRankingDifferences] = {}\n",
    "\n",
    "for regressor_type, iso2grad_model in iso2grad_models.items():\n",
    "    iso2grad_srds[regressor_type] = SumOfRankingDifferences(\n",
    "        # Inputs = gradient time predictions\n",
    "        inputs=iso2grad_model.results.gradient_retention_times,\n",
    "        # Golden reference = exp gradient retention data\n",
    "        golden_reference=iso2grad_data.gradient_retention_times\n",
    "    )"
   ]
  },
  {
   "cell_type": "code",
   "execution_count": null,
   "id": "3ba87829-9ee1-4f23-8223-113428bfadf7",
   "metadata": {},
   "outputs": [],
   "source": []
  }
 ],
 "metadata": {
  "kernelspec": {
   "display_name": "Python 3 (ipykernel)",
   "language": "python",
   "name": "python3"
  },
  "language_info": {
   "codemirror_mode": {
    "name": "ipython",
    "version": 3
   },
   "file_extension": ".py",
   "mimetype": "text/x-python",
   "name": "python",
   "nbconvert_exporter": "python",
   "pygments_lexer": "ipython3",
   "version": "3.8.6"
  }
 },
 "nbformat": 4,
 "nbformat_minor": 5
}
